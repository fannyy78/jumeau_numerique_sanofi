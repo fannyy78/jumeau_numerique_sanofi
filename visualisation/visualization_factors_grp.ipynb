{
 "cells": [
  {
   "cell_type": "code",
   "execution_count": 1,
   "id": "5b34abda-8c32-4bfc-8fd2-8557dc7fb039",
   "metadata": {},
   "outputs": [],
   "source": [
    "# Affichage de la carte avec tous les groupes de facteurs"
   ]
  },
  {
   "cell_type": "code",
   "execution_count": 2,
   "id": "ca7becbf-8f25-4a7c-9773-dfa31f1d61ad",
   "metadata": {},
   "outputs": [],
   "source": [
    "import os\n",
    "import pandas as pd\n",
    "import geopandas as gpd\n",
    "import folium\n",
    "from branca.element import MacroElement\n",
    "from jinja2 import Template"
   ]
  },
  {
   "cell_type": "code",
   "execution_count": 3,
   "id": "d8c0756f-6bff-4012-afc9-60e9bc734ad1",
   "metadata": {},
   "outputs": [],
   "source": [
    "\n",
    "# ---------- Chargement des données ----------\n",
    "base_dir = \"/home/oneai/jumeau_num\"  # chemin\n",
    "\n",
    "if not os.path.exists(base_dir):\n",
    "    raise FileNotFoundError(f\"Le dossier {base_dir} n'existe pas !\")\n",
    "\n",
    "gdf_com_2024_path = os.path.join(base_dir, \"gdf_com_2024.geojson\")\n",
    "gdf_dep_path = os.path.join(base_dir, \"gdf_dep.geojson\")\n",
    "factors_path = os.path.join(base_dir, \"tables\", \"facteurs_en_groupes.csv\")\n",
    "\n",
    "gdf_com_2024 = gpd.read_file(gdf_com_2024_path)\n",
    "gdf_dep = gpd.read_file(gdf_dep_path)\n",
    "factors = pd.read_csv(factors_path)"
   ]
  },
  {
   "cell_type": "code",
   "execution_count": 4,
   "id": "c1492b3f-83cb-497c-85a9-fd80331f48fc",
   "metadata": {},
   "outputs": [],
   "source": [
    "# ---------- Fonction de classification ----------\n",
    "def classify_factors(df, exclude_cols=[\"codgeo\", \"cluster\", \"libgeo\", \"canton\"]):\n",
    "    \"\"\"\n",
    "    Classe les colonnes numériques d'un DataFrame en niveaux (0 à 4)\n",
    "    en fonction des quartiles de leur distribution.\n",
    "    - 0 : valeur nulle\n",
    "    - 1 : <= Q1\n",
    "    - 2 : <= Q2 (médiane)\n",
    "    - 3 : <= Q3\n",
    "    - 4 : > Q3\n",
    "    - None : valeurs manquantes\n",
    "    \"\"\"\n",
    "    df_classified = df.copy()\n",
    "    num_cols = df_classified.select_dtypes(include=\"number\").columns\n",
    "    num_cols = [c for c in num_cols if c not in exclude_cols]\n",
    "\n",
    "    for col in num_cols:\n",
    "        q1 = df_classified[col].quantile(0.25)\n",
    "        q2 = df_classified[col].quantile(0.50)\n",
    "        q3 = df_classified[col].quantile(0.75)\n",
    "\n",
    "        def classify(val):\n",
    "            if pd.isna(val):\n",
    "                return None\n",
    "            elif val == 0:\n",
    "                return 0\n",
    "            elif val <= q1:\n",
    "                return 1\n",
    "            elif val <= q2:\n",
    "                return 2\n",
    "            elif val <= q3:\n",
    "                return 3\n",
    "            else:\n",
    "                return 4\n",
    "\n",
    "        df_classified[col] = df_classified[col].apply(classify)\n",
    "\n",
    "    return df_classified"
   ]
  },
  {
   "cell_type": "code",
   "execution_count": 5,
   "id": "e5da868f-e160-4962-8793-4278e08a1a4d",
   "metadata": {},
   "outputs": [],
   "source": [
    "# ---------- Classification des facteurs par commune ----------\n",
    "factors_classified = classify_factors(factors)\n",
    "\n",
    "# ---------- Fusion des données brutes par commune ----------\n",
    "factors_classified['codgeo'] = factors_classified['codgeo'].astype(str)\n",
    "gdf_com_2024['COM_geojson'] = gdf_com_2024['COM_geojson'].astype(str)\n",
    "\n",
    "gdf_factors_com = gdf_com_2024.merge(factors_classified, left_on='COM_geojson', right_on='codgeo')\n",
    "\n",
    "# ---------- Ajout de la colonne 'canton' dans gdf_com_2024 avant dissolution ----------\n",
    "gdf_com_2024 = gdf_com_2024.merge(\n",
    "    factors[['codgeo', 'canton']],\n",
    "    left_on='COM_geojson',\n",
    "    right_on='codgeo',\n",
    "    how='left'\n",
    ")\n",
    "\n",
    "# ---------- Moyenne des facteurs par canton ----------\n",
    "factor_cols = [col for col in factors.columns if col not in ['codgeo', 'libgeo', 'cluster', 'canton']]\n",
    "factors_canton = factors.groupby('canton')[factor_cols].mean().reset_index()\n",
    "\n",
    "# ---------- Classification des facteurs moyens par canton ----------\n",
    "factors_canton_classified = classify_factors(factors_canton, exclude_cols=['canton'])\n",
    "\n",
    "# ---------- Fusion géométrique des communes par canton ----------\n",
    "gdf_canton_geom = gdf_com_2024.dissolve(by='canton', as_index=False)\n",
    "\n",
    "# ---------- Fusion des facteurs classifiés avec la géométrie des cantons ----------\n",
    "gdf_canton_factors = gdf_canton_geom.merge(factors_canton_classified, on='canton')"
   ]
  },
  {
   "cell_type": "code",
   "execution_count": null,
   "id": "eb0d79f4-9fc0-46a7-9636-92d41a711772",
   "metadata": {},
   "outputs": [],
   "source": [
    "# suppression cluster\n",
    "if 'cluster' in factors.columns:\n",
    "    factors = factors.drop(columns=['cluster'])\n",
    "\n",
    "if 'cluster' in factors_classified.columns:\n",
    "    factors_classified = factors_classified.drop(columns=['cluster'])\n",
    "\n",
    "if 'cluster' in factors_canton_classified.columns:\n",
    "    factors_canton_classified = factors_canton_classified.drop(columns=['cluster'])\n"
   ]
  },
  {
   "cell_type": "code",
   "execution_count": 6,
   "id": "93701d20-eba0-4a44-90ca-ba7b638426bd",
   "metadata": {},
   "outputs": [],
   "source": [
    "# ---------- Définition des couleurs des niveaux ----------\n",
    "niveau_couleurs = {\n",
    "    1: \"#ffffb2\",  # jaune clair\n",
    "    2: \"#fecc5c\",  # orange clair\n",
    "    3: \"#fd8d3c\",  # orange foncé\n",
    "    4: \"#e31a1c\"   # rouge\n",
    "}"
   ]
  },
  {
   "cell_type": "code",
   "execution_count": 7,
   "id": "b699c388-2538-415d-bc2f-aef1191ce7e6",
   "metadata": {},
   "outputs": [
    {
     "data": {
      "text/plain": [
       "<folium.features.GeoJson at 0x7ff1c7388e80>"
      ]
     },
     "execution_count": 7,
     "metadata": {},
     "output_type": "execute_result"
    }
   ],
   "source": [
    "# ---------- Création de la carte ----------\n",
    "carte_france = folium.Map(\n",
    "    location=[46.5, 2],\n",
    "    zoom_start=6,\n",
    "    min_zoom=5.9,\n",
    "    max_bounds=True,\n",
    "    tiles=\"CartoDB positron\"\n",
    ")\n",
    "\n",
    "bounds_sud_ouest = [41.0, -5.0]\n",
    "bounds_nord_est = [51.5, 9.5]\n",
    "carte_france.fit_bounds([bounds_sud_ouest, bounds_nord_est])\n",
    "carte_france.options['maxBounds'] = [bounds_sud_ouest, bounds_nord_est]\n",
    "\n",
    "# Couche départements\n",
    "folium.GeoJson(\n",
    "    gdf_dep,\n",
    "    name=\"Départements\",\n",
    "    style_function=lambda x: {\"color\": \"black\", \"weight\": 0.5, \"fillOpacity\": 0},\n",
    "    tooltip=folium.GeoJsonTooltip(fields=[\"nom\", \"code\"], aliases=[\"Département\", \"Code INSEE\"])\n",
    ").add_to(carte_france)\n",
    "\n",
    "# Couche communes (bords seulement)\n",
    "folium.GeoJson(\n",
    "    gdf_com_2024,\n",
    "    name=\"Communes\",\n",
    "    style_function=lambda x: {\"color\": \"blue\", \"weight\": 0.1, \"fillOpacity\": 0.2},\n",
    "    tooltip=folium.GeoJsonTooltip(fields=[\"DCOE_L_LIB\", \"COM_geojson\"], aliases=[\"Commune\", \"Code INSEE\"])\n",
    ").add_to(carte_france)"
   ]
  },
  {
   "cell_type": "code",
   "execution_count": 8,
   "id": "c62e98b3-c89a-4a3b-b739-71bb26678020",
   "metadata": {},
   "outputs": [],
   "source": [
    "# ---------- Fonction style pour communes ----------\n",
    "def make_style_function_commune(col):\n",
    "    def style_function(feature):\n",
    "        value = feature[\"properties\"].get(col)\n",
    "        if value == 0 or pd.isna(value):\n",
    "            return {\n",
    "                \"fillColor\": \"white\",\n",
    "                \"color\": \"transparent\",\n",
    "                \"weight\": 0.2,\n",
    "                \"fillOpacity\": 0.6\n",
    "            }\n",
    "        color = niveau_couleurs.get(value, \"transparent\")\n",
    "        return {\n",
    "            \"fillColor\": color,\n",
    "            \"color\": \"black\",\n",
    "            \"weight\": 0.2,\n",
    "            \"fillOpacity\": 0.6\n",
    "        }\n",
    "    return style_function\n",
    "\n",
    "# Ajout couches communes classifiées\n",
    "for col in factor_cols:\n",
    "    fg_com = folium.FeatureGroup(name=f\"Commune: {col}\", show=False)\n",
    "    folium.GeoJson(\n",
    "        gdf_factors_com,\n",
    "        name=col,\n",
    "        style_function=make_style_function_commune(col),\n",
    "        tooltip=folium.GeoJsonTooltip(\n",
    "            fields=[\"COM_geojson\", col],\n",
    "            aliases=[\"Commune\", f\"Facteur: {col}\"]\n",
    "        )\n",
    "    ).add_to(fg_com)\n",
    "    fg_com.add_to(carte_france)"
   ]
  },
  {
   "cell_type": "code",
   "execution_count": 9,
   "id": "307c5103-7939-449c-aa15-0d56ddb5e3e4",
   "metadata": {},
   "outputs": [],
   "source": [
    "# ---------- Fonction style pour cantons ----------\n",
    "def make_style_function_canton(col):\n",
    "    def style_function(feature):\n",
    "        value = feature[\"properties\"].get(col)\n",
    "        if value == 0 or pd.isna(value):\n",
    "            return {\n",
    "                \"fillColor\": \"white\",\n",
    "                \"color\": \"transparent\",\n",
    "                \"weight\": 0.5,\n",
    "                \"fillOpacity\": 0.5\n",
    "            }\n",
    "        color = niveau_couleurs.get(value, \"transparent\")\n",
    "        return {\n",
    "            \"fillColor\": color,\n",
    "            \"color\": \"black\",\n",
    "            \"weight\": 0.5,\n",
    "            \"fillOpacity\": 0.5\n",
    "        }\n",
    "    return style_function\n",
    "\n",
    "# Ajout couches cantons classifiés\n",
    "for col in factor_cols:\n",
    "    fg_canton = folium.FeatureGroup(name=f\"Canton: {col}\", show=False)\n",
    "    folium.GeoJson(\n",
    "        gdf_canton_factors,\n",
    "        name=col,\n",
    "        style_function=make_style_function_canton(col),\n",
    "        tooltip=folium.GeoJsonTooltip(\n",
    "            fields=[\"canton\", col],\n",
    "            aliases=[\"Canton\", f\"Facteur: {col}\"]\n",
    "        )\n",
    "    ).add_to(fg_canton)\n",
    "    fg_canton.add_to(carte_france)"
   ]
  },
  {
   "cell_type": "code",
   "execution_count": 10,
   "id": "af709911-771a-4d4e-9042-44c3614cef95",
   "metadata": {},
   "outputs": [],
   "source": [
    "# ---------- Légende ----------\n",
    "legend_html = \"\"\"\n",
    "{% macro html(this, kwargs) %}\n",
    "<div style=\"\n",
    "bottom: 30px;\n",
    "left: 30px;\n",
    "width: 220px;\n",
    "background-color: white;\n",
    "border:2px solid grey;\n",
    "z-index:9999;\n",
    "font-size:14px;\n",
    "padding: 10px;\n",
    "box-shadow: 2px 2px 6px rgba(0,0,0,0.3);\n",
    "\">\n",
    "<b>Légende des niveaux</b><br>\n",
    "<i style=\"background:#ffffb2;width:12px;height:12px;display:inline-block;\"></i>&nbsp; Niveau 1<br>\n",
    "<i style=\"background:#fecc5c;width:12px;height:12px;display:inline-block;\"></i>&nbsp; Niveau 2<br>\n",
    "<i style=\"background:#fd8d3c;width:12px;height:12px;display:inline-block;\"></i>&nbsp; Niveau 3<br>\n",
    "<i style=\"background:#e31a1c;width:12px;height:12px;display:inline-block;\"></i>&nbsp; Niveau 4<br>\n",
    "</div>\n",
    "{% endmacro %}\n",
    "\"\"\"\n",
    "legend = MacroElement()\n",
    "legend._template = Template(legend_html)\n",
    "carte_france.get_root().add_child(legend)"
   ]
  },
  {
   "cell_type": "code",
   "execution_count": 11,
   "id": "9b333e19-0696-4d42-ba98-5dc9699c5326",
   "metadata": {},
   "outputs": [
    {
     "data": {
      "text/html": [
       "\n",
       "        <iframe\n",
       "            width=\"950\"\n",
       "            height=\"600\"\n",
       "            src=\"carte_france_facteurs_communes_cantons.html\"\n",
       "            frameborder=\"0\"\n",
       "            allowfullscreen\n",
       "            \n",
       "        ></iframe>\n",
       "        "
      ],
      "text/plain": [
       "<IPython.lib.display.IFrame at 0x7ff1affba920>"
      ]
     },
     "execution_count": 11,
     "metadata": {},
     "output_type": "execute_result"
    }
   ],
   "source": [
    "\n",
    "# Contrôle des couches\n",
    "folium.LayerControl(collapsed=True).add_to(carte_france)\n",
    "\n",
    "# ---------- Sauvegarde et affichage ----------\n",
    "carte_france.save(\"carte_france_facteurs_communes_cantons.html\")\n",
    "\n",
    "# Affichage dans notebook Jupyter (optionnel)\n",
    "from IPython.display import IFrame\n",
    "IFrame(\"carte_france_facteurs_communes_cantons.html\", width=950, height=600)\n"
   ]
  },
  {
   "cell_type": "code",
   "execution_count": null,
   "id": "167fb245-ee78-44ef-81d2-e0e98ed6c0d5",
   "metadata": {},
   "outputs": [],
   "source": []
  }
 ],
 "metadata": {
  "kernelspec": {
   "display_name": "Python 3 (ipykernel)",
   "language": "python",
   "name": "python3"
  },
  "language_info": {
   "codemirror_mode": {
    "name": "ipython",
    "version": 3
   },
   "file_extension": ".py",
   "mimetype": "text/x-python",
   "name": "python",
   "nbconvert_exporter": "python",
   "pygments_lexer": "ipython3",
   "version": "3.10.14"
  }
 },
 "nbformat": 4,
 "nbformat_minor": 5
}
