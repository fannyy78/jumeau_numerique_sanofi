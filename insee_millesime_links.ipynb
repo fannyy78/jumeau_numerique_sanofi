{
 "cells": [
  {
   "cell_type": "code",
   "execution_count": 3,
   "id": "a69d6079-c97b-4146-ba78-0a88e63f4b5c",
   "metadata": {},
   "outputs": [],
   "source": [
    "import pandas as pd\n",
    "\n",
    "# Chargement des fichiers descriptifs des commmunes par année (2021 à 2025)\n",
    "# 2024\n",
    "COMMUNE = \"insee_millesime_importation/v_commune_2024.csv\"\n",
    "COMMUNE = pd.read_csv(COMMUNE) "
   ]
  },
  {
   "cell_type": "code",
   "execution_count": 3,
   "id": "c75a66a8-6d31-4fe3-ac2a-60215b3110e8",
   "metadata": {},
   "outputs": [
    {
     "name": "stdout",
     "output_type": "stream",
     "text": [
      "✅ Fichier pour l'année 2025 chargé avec succès !\n",
      "✅ Fichier pour l'année 2024 chargé avec succès !\n",
      "✅ Fichier pour l'année 2023 chargé avec succès !\n",
      "✅ Fichier pour l'année 2022 chargé avec succès !\n",
      "✅ Fichier pour l'année 2025 chargé avec succès !\n",
      "✅ Fichier pour l'année 2024 chargé avec succès !\n",
      "✅ Fichier pour l'année 2023 chargé avec succès !\n",
      "✅ Fichier pour l'année 2022 chargé avec succès !\n",
      "✅ Fichier pour l'année 2025 chargé avec succès !\n",
      "✅ Fichier pour l'année 2024 chargé avec succès !\n",
      "✅ Fichier pour l'année 2023 chargé avec succès !\n",
      "✅ Fichier pour l'année 2022 chargé avec succès !\n",
      "✅ Fichier pour l'année 2025 chargé avec succès !\n",
      "✅ Fichier pour l'année 2024 chargé avec succès !\n",
      "✅ Fichier pour l'année 2023 chargé avec succès !\n",
      "✅ Fichier pour l'année 2022 chargé avec succès !\n",
      "✅ Fichier pour l'année 2025 chargé avec succès !\n",
      "✅ Fichier pour l'année 2024 chargé avec succès !\n",
      "✅ Fichier pour l'année 2023 chargé avec succès !\n",
      "✅ Fichier pour l'année 2022 chargé avec succès !\n"
     ]
    }
   ],
   "source": [
    "import pandas as pd\n",
    "\n",
    "# Chemin du dossier contenant les fichiers CSV locaux\n",
    "chemin_dossier = './insee_millesime_importation/' \n",
    "\n",
    "COMMUNES = {\n",
    "    '2025': chemin_dossier + 'v_commune_2025.csv',\n",
    "    '2024': chemin_dossier + 'v_commune_2024.csv',\n",
    "    '2023': chemin_dossier + 'v_commune_2023.csv',\n",
    "    '2022': chemin_dossier + 'v_commune_2022.csv'\n",
    "}\n",
    "\n",
    "CANTONS = {\n",
    "    '2025': chemin_dossier + 'v_canton_2025.csv',\n",
    "    '2024': chemin_dossier + 'v_canton_2024.csv',\n",
    "    '2023': chemin_dossier + 'v_canton_2023.csv',\n",
    "    '2022': chemin_dossier + 'v_canton_2022.csv'\n",
    "}\n",
    "\n",
    "ARRONDISSEMENTS = {\n",
    "    '2025': chemin_dossier + 'v_arrondissement_2024.csv',\n",
    "    '2024': chemin_dossier + 'v_arrondissement_2025.csv',\n",
    "    '2023': chemin_dossier + 'v_arrondissement_2023.csv',\n",
    "    '2022': chemin_dossier + 'v_arrondissement_2022.csv'\n",
    "}\n",
    "\n",
    "DEPARTEMENTS = {\n",
    "    '2025': chemin_dossier + 'v_departement_2025.csv',\n",
    "    '2024': chemin_dossier + 'v_departement_2024.csv',\n",
    "    '2023': chemin_dossier + 'v_departement_2023.csv',\n",
    "    '2022': chemin_dossier + 'v_departement_2022.csv'\n",
    "}\n",
    "\n",
    "REGIONS = {\n",
    "    '2025': chemin_dossier + 'v_region_2025.csv',\n",
    "    '2024': chemin_dossier + 'v_region_2024.csv',\n",
    "    '2023': chemin_dossier + 'v_region_2023.csv',\n",
    "    '2022': chemin_dossier + 'v_region_2022.csv'\n",
    "}\n",
    "\n",
    "def charger_fichiers(dictionnaire):\n",
    "    dataframes = {}\n",
    "    for annee, fichier in dictionnaire.items():\n",
    "        try:\n",
    "            dataframes[annee] = pd.read_csv(fichier, sep=\";\", encoding=\"utf-8\")\n",
    "            print(f\"✅ Fichier pour l'année {annee} chargé avec succès !\")\n",
    "        except Exception as e:\n",
    "            print(f\"❌ Erreur lors du chargement du fichier pour l'année {annee}: {e}\")\n",
    "    return dataframes\n",
    "\n",
    "# Charger les fichiers pour chaque catégorie\n",
    "df_communes = charger_fichiers(COMMUNES)\n",
    "df_cantons = charger_fichiers(CANTONS)\n",
    "df_arrondissements = charger_fichiers(ARRONDISSEMENTS)\n",
    "df_departements = charger_fichiers(DEPARTEMENTS)\n",
    "df_regions = charger_fichiers(REGIONS)\n"
   ]
  },
  {
   "cell_type": "code",
   "execution_count": 13,
   "id": "957958ac-19e6-4f10-a072-59f1fe39c243",
   "metadata": {},
   "outputs": [
    {
     "name": "stdout",
     "output_type": "stream",
     "text": [
      "  TYPECOM,\"COM\",\"REG\",\"DEP\",\"CTCD\",\"ARR\",\"TNCC\",\"NCC\",\"NCCENR\",\"LIBELLE\",\"CAN\",\"COMPARENT\"\n",
      "0  COM,\"01001\",\"84\",\"01\",\"01D\",\"012\",\"5\",\"ABERGEM...                                      \n",
      "1  COM,\"01002\",\"84\",\"01\",\"01D\",\"011\",\"5\",\"ABERGEM...                                      \n",
      "2  COM,\"01004\",\"84\",\"01\",\"01D\",\"011\",\"1\",\"AMBERIE...                                      \n",
      "3  COM,\"01005\",\"84\",\"01\",\"01D\",\"012\",\"1\",\"AMBERIE...                                      \n",
      "4  COM,\"01006\",\"84\",\"01\",\"01D\",\"011\",\"1\",\"AMBLEON...                                      \n"
     ]
    }
   ],
   "source": [
    "# Exemple\n",
    "print(df_communes['2024'].head())"
   ]
  },
  {
   "cell_type": "code",
   "execution_count": null,
   "id": "2aa672ef-0224-4d7a-96a8-578bd2c0aade",
   "metadata": {},
   "outputs": [],
   "source": [
    "# vérifier que les communes sont les mêmes entre les années, et pareil pour les régions et dep"
   ]
  },
  {
   "cell_type": "code",
   "execution_count": null,
   "id": "5f089b0f-2916-4812-bd80-79d0f8fd4904",
   "metadata": {},
   "outputs": [],
   "source": []
  },
  {
   "cell_type": "code",
   "execution_count": null,
   "id": "c7a6e114-a2d5-4531-95b8-b54727b6f7fd",
   "metadata": {},
   "outputs": [],
   "source": []
  },
  {
   "cell_type": "code",
   "execution_count": 4,
   "id": "805bcbd4-ff33-47b3-9aba-241c92cf2aaa",
   "metadata": {},
   "outputs": [
    {
     "name": "stderr",
     "output_type": "stream",
     "text": [
      "[NbConvertApp] Converting notebook insee_millesime_links.ipynb to script\n",
      "[NbConvertApp] Writing 2422 bytes to insee_millesime_links.py\n",
      "[NbConvertApp] Converting notebook map_boundaries.ipynb to script\n",
      "[NbConvertApp] Writing 4001 bytes to map_boundaries.py\n"
     ]
    }
   ],
   "source": [
    "!jupyter nbconvert --to script insee_millesime_links.ipynb\n",
    "!jupyter nbconvert --to script map_boundaries.ipynb"
   ]
  },
  {
   "cell_type": "code",
   "execution_count": null,
   "id": "080857c8-944a-47d5-ae27-3aff6bb22673",
   "metadata": {},
   "outputs": [],
   "source": []
  }
 ],
 "metadata": {
  "kernelspec": {
   "display_name": "Python 3 (ipykernel)",
   "language": "python",
   "name": "python3"
  },
  "language_info": {
   "codemirror_mode": {
    "name": "ipython",
    "version": 3
   },
   "file_extension": ".py",
   "mimetype": "text/x-python",
   "name": "python",
   "nbconvert_exporter": "python",
   "pygments_lexer": "ipython3",
   "version": "3.12.9"
  }
 },
 "nbformat": 4,
 "nbformat_minor": 5
}
