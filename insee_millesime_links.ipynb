{
 "cells": [
  {
   "cell_type": "code",
   "execution_count": null,
   "id": "0",
   "metadata": {},
   "outputs": [],
   "source": [
    "import pandas as pd\n",
    "\n",
    "# Chargement des fichiers descriptifs des commmunes par année (2021 à 2025)\n",
    "# 2024\n",
    "COMMUNE = \"insee_millesime_importation/v_commune_2024.csv\"\n",
    "COMMUNE = pd.read_csv(COMMUNE) "
   ]
  },
  {
   "cell_type": "code",
   "execution_count": null,
   "id": "1",
   "metadata": {},
   "outputs": [],
   "source": [
    "import pandas as pd\n",
    "\n",
    "# Chemin du dossier contenant les fichiers CSV locaux\n",
    "chemin_dossier = './insee_millesime_importation/' \n",
    "\n",
    "COMMUNES = {\n",
    "    '2025': chemin_dossier + 'v_commune_2025.csv',\n",
    "    '2024': chemin_dossier + 'v_commune_2024.csv',\n",
    "    '2023': chemin_dossier + 'v_commune_2023.csv',\n",
    "    '2022': chemin_dossier + 'v_commune_2022.csv'\n",
    "}\n",
    "\n",
    "CANTONS = {\n",
    "    '2025': chemin_dossier + 'v_canton_2025.csv',\n",
    "    '2024': chemin_dossier + 'v_canton_2024.csv',\n",
    "    '2023': chemin_dossier + 'v_canton_2023.csv',\n",
    "    '2022': chemin_dossier + 'v_canton_2022.csv'\n",
    "}\n",
    "\n",
    "ARRONDISSEMENTS = {\n",
    "    '2025': chemin_dossier + 'v_arrondissement_2024.csv',\n",
    "    '2024': chemin_dossier + 'v_arrondissement_2025.csv',\n",
    "    '2023': chemin_dossier + 'v_arrondissement_2023.csv',\n",
    "    '2022': chemin_dossier + 'v_arrondissement_2022.csv'\n",
    "}\n",
    "\n",
    "DEPARTEMENTS = {\n",
    "    '2025': chemin_dossier + 'v_departement_2025.csv',\n",
    "    '2024': chemin_dossier + 'v_departement_2024.csv',\n",
    "    '2023': chemin_dossier + 'v_departement_2023.csv',\n",
    "    '2022': chemin_dossier + 'v_departement_2022.csv'\n",
    "}\n",
    "\n",
    "REGIONS = {\n",
    "    '2025': chemin_dossier + 'v_region_2025.csv',\n",
    "    '2024': chemin_dossier + 'v_region_2024.csv',\n",
    "    '2023': chemin_dossier + 'v_region_2023.csv',\n",
    "    '2022': chemin_dossier + 'v_region_2022.csv'\n",
    "}\n",
    "\n",
    "def charger_fichiers(dictionnaire):\n",
    "    dataframes = {}\n",
    "    for annee, fichier in dictionnaire.items():\n",
    "        try:\n",
    "            dataframes[annee] = pd.read_csv(fichier, sep=\";\", encoding=\"utf-8\")\n",
    "            print(f\"✅ Fichier pour l'année {annee} chargé avec succès !\")\n",
    "        except Exception as e:\n",
    "            print(f\"❌ Erreur lors du chargement du fichier pour l'année {annee}: {e}\")\n",
    "    return dataframes\n",
    "\n",
    "# Charger les fichiers pour chaque catégorie\n",
    "df_communes = charger_fichiers(COMMUNES)\n",
    "df_cantons = charger_fichiers(CANTONS)\n",
    "df_arrondissements = charger_fichiers(ARRONDISSEMENTS)\n",
    "df_departements = charger_fichiers(DEPARTEMENTS)\n",
    "df_regions = charger_fichiers(REGIONS)\n"
   ]
  },
  {
   "cell_type": "code",
   "execution_count": null,
   "id": "2",
   "metadata": {},
   "outputs": [],
   "source": [
    "# Exemple\n",
    "print(df_communes['2024'].head())"
   ]
  },
  {
   "cell_type": "code",
   "execution_count": null,
   "id": "3",
   "metadata": {},
   "outputs": [],
   "source": [
    "# vérifier que les communes sont les mêmes entre les années, et pareil pour les régions et dep"
   ]
  },
  {
   "cell_type": "code",
   "execution_count": null,
   "id": "4",
   "metadata": {},
   "outputs": [],
   "source": []
  },
  {
   "cell_type": "code",
   "execution_count": null,
   "id": "5",
   "metadata": {},
   "outputs": [],
   "source": []
  },
  {
   "cell_type": "code",
   "execution_count": null,
   "id": "6",
   "metadata": {},
   "outputs": [],
   "source": [
    "!jupyter nbconvert --to script insee_millesime_links.ipynb\n",
    "!jupyter nbconvert --to script map_boundaries.ipynb"
   ]
  },
  {
   "cell_type": "code",
   "execution_count": null,
   "id": "7",
   "metadata": {},
   "outputs": [],
   "source": []
  }
 ],
 "metadata": {
  "kernelspec": {
   "display_name": "Python 3 (ipykernel)",
   "language": "python",
   "name": "python3"
  },
  "language_info": {
   "codemirror_mode": {
    "name": "ipython",
    "version": 3
   },
   "file_extension": ".py",
   "mimetype": "text/x-python",
   "name": "python",
   "nbconvert_exporter": "python",
   "pygments_lexer": "ipython3",
   "version": "3.12.9"
  }
 },
 "nbformat": 4,
 "nbformat_minor": 5
}
