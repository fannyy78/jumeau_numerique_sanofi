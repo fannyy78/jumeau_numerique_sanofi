{
 "cells": [
  {
   "cell_type": "code",
   "execution_count": null,
   "id": "0",
   "metadata": {},
   "outputs": [],
   "source": [
    "!pip install pandas importlib-metadata\n",
    "!pip install openpyxl xlrd\n",
    "!pip install numpy matplotlib seaborn spicy scikit-learn\n",
    "!pip install geopandas\n",
    "!pip install folium\n",
    "!pip install branca\n",
    "!pip install Jinja2\n",
    "!pip install ipython\n",
    "!pip install umap-learn\n",
    "!pip install plotly\n",
    "!pip install libpysal esda"
   ]
  },
  {
   "cell_type": "code",
   "execution_count": null,
   "id": "1",
   "metadata": {},
   "outputs": [],
   "source": []
  }
 ],
 "metadata": {
  "kernelspec": {
   "display_name": "Python 3 (ipykernel)",
   "language": "python",
   "name": "python3"
  },
  "language_info": {
   "codemirror_mode": {
    "name": "ipython",
    "version": 3
   },
   "file_extension": ".py",
   "mimetype": "text/x-python",
   "name": "python",
   "nbconvert_exporter": "python",
   "pygments_lexer": "ipython3",
   "version": "3.10.14"
  }
 },
 "nbformat": 4,
 "nbformat_minor": 5
}
