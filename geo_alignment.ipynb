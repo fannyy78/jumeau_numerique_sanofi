{
 "cells": [
  {
   "cell_type": "code",
   "execution_count": null,
   "id": "0",
   "metadata": {},
   "outputs": [],
   "source": [
    "# Importer les modules\n",
    "from insee_millesime_links import *\n",
    "from map_boundaries import *\n",
    "\n",
    "# Charger les fichiers pour chaque catégorie\n",
    "df_communes = charger_fichiers(COMMUNES)\n",
    "df_departements = charger_fichiers(DEPARTEMENTS)\n",
    "df_regions = charger_fichiers(REGIONS)\n",
    "\n",
    "def verifier_correspondance(df_insee, gdf, id_col_insee, id_col_gdf, nom_table):\n",
    "    differences = []\n",
    "    for annee, df in df_insee.items():\n",
    "        ids_insee = set(df[id_col_insee])\n",
    "        ids_gdf = set(gdf[id_col_gdf])\n",
    "\n",
    "        manquants_insee = ids_gdf - ids_insee\n",
    "        manquants_gdf = ids_insee - ids_gdf\n",
    "\n",
    "        if manquants_insee:\n",
    "            differences.append(f\"Année {annee} - Table {nom_table} : Identifiants manquants dans INSEE : {manquants_insee}\")\n",
    "        if manquants_gdf:\n",
    "            differences.append(f\"Année {annee} - Table {nom_table} : Identifiants manquants dans GeoJSON : {manquants_gdf}\")\n",
    "\n",
    "    return differences\n",
    "\n",
    "# Vérifier les correspondances\n",
    "differences_reg = verifier_correspondance(df_regions, gdf_dep, 'INSEE_REG', 'code', 'Régions')\n",
    "differences_dep = verifier_correspondance(df_departements, gdf_dep, 'DEP', 'code', 'Départements')\n",
    "differences_com = verifier_correspondance(df_communes, gdf_com, 'INSEE_COM', 'INSEE_COM', 'Communes')\n",
    "\n",
    "# Afficher les différences\n",
    "if differences_reg:\n",
    "    print(\"Différences trouvées pour les régions :\")\n",
    "    for diff in differences_reg:\n",
    "        print(diff)\n",
    "\n",
    "if differences_dep:\n",
    "    print(\"Différences trouvées pour les départements :\")\n",
    "    for diff in differences_dep:\n",
    "        print(diff)\n",
    "\n",
    "if differences_com:\n",
    "    print(\"Différences trouvées pour les communes :\")\n",
    "    for diff in differences_com:\n",
    "        print(diff)\n",
    "\n",
    "if not differences_reg and not differences_dep and not differences_com:\n",
    "    print(\"Tous les identifiants correspondent parfaitement entre les fichiers INSEE et les contours administratifs.\")\n"
   ]
  },
  {
   "cell_type": "code",
   "execution_count": null,
   "id": "1",
   "metadata": {},
   "outputs": [],
   "source": []
  }
 ],
 "metadata": {
  "kernelspec": {
   "display_name": "Python 3 (ipykernel)",
   "language": "python",
   "name": "python3"
  },
  "language_info": {
   "codemirror_mode": {
    "name": "ipython",
    "version": 3
   },
   "file_extension": ".py",
   "mimetype": "text/x-python",
   "name": "python",
   "nbconvert_exporter": "python",
   "pygments_lexer": "ipython3",
   "version": "3.12.9"
  }
 },
 "nbformat": 4,
 "nbformat_minor": 5
}
